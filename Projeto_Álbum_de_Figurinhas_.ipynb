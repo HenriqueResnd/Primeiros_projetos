{
  "nbformat": 4,
  "nbformat_minor": 0,
  "metadata": {
    "colab": {
      "name": "Projeto Álbum de Figurinhas .ipynb",
      "provenance": [],
      "collapsed_sections": [
        "R-5rDRqIdFPg",
        "J2E2AWUsdu0E",
        "nNPWk53yd1DP",
        "vqbu22m-f8ti",
        "nPbBqJ8cibMz",
        "Ar9DPMKXjwvY",
        "72zzz-eBpYI6",
        "FSOL3CQVpkQl",
        "wSn__eyopkTj",
        "FcMXZFPjpkWg",
        "44iakHIOpkZR"
      ],
      "authorship_tag": "ABX9TyPlEDEq8/dwc5H8iiyGOhLG",
      "include_colab_link": true
    },
    "kernelspec": {
      "name": "python3",
      "display_name": "Python 3"
    },
    "language_info": {
      "name": "python"
    }
  },
  "cells": [
    {
      "cell_type": "markdown",
      "metadata": {
        "id": "view-in-github",
        "colab_type": "text"
      },
      "source": [
        "<a href=\"https://colab.research.google.com/github/HenriqueResnd/Primeiros_projetos/blob/main/Projeto_%C3%81lbum_de_Figurinhas_.ipynb\" target=\"_parent\"><img src=\"https://colab.research.google.com/assets/colab-badge.svg\" alt=\"Open In Colab\"/></a>"
      ]
    },
    {
      "cell_type": "markdown",
      "metadata": {
        "id": "wItoNbMBYLLK"
      },
      "source": [
        "# Projeto\n",
        "\n",
        "## Introdução\n",
        "\n",
        "  Quem nunca teve um álbum de figurinhas? Ou pelo menos conheceu alguem que ja teve? \n",
        "  Seja da Copa do Mundo, de algum desenho, filme ou sobre um tema específico, os álbuns de figurinhas existem há muito tempo e sempre foram um hobby muito popular, com um público muito grande independente da idade, renda ou cultura.\n",
        "  A vontade de ter um álbum de figurinhas geralmente surge pela emoção gerada pelo seu tema, pelo fato de querer colecionar algo ou até mesmo participar de uma moda, como é no caso de algumas pessoas que compram albuns da copa para se socializarem e participar da moda do momento.\n",
        "  Quando começamos esse hobby dificilmente paramos pra pensar na dificuldade ou no custo que vamos ter para completar o álbum, isso pode acontecer porque o custo para começar é muito baixo e a dificuldade de completar aumenta de forma exponencial, ou seja, no começo a probabilidade de você tirar figurinhas repetidas é baixo e isso te traz a sensação de satisfação por ver o progresso \"fácil\", no entando quanto mais completo o álbum maior a chance de saírem figurinhas repetidas no pack. \n",
        "  Aí que acontece uma das coisas mais curiosas, a dificuldade de completar o álbum aumenta muito no final e ao mesmo tempo a vontade de completar também, isso porque nossa cabeça é cheia de viéses e o valor de ter o álbum completo pode ser maior do que o preço para conseguir.\n",
        "  Por isso decidi publicar esse projeto para que possamos saber algumas curiosidades estatísticas sobre esse hobby além de praticar a programação.\n",
        "  \n",
        "\n",
        "## Suposições\n",
        "\n",
        "1. O álbum possui 212 espaços para figurinhas.\n",
        "2. Preço do livro ilustrado capa brochura - 10,00 reais.\n",
        "3. Preço do pack com 4 cromos - 4,00 reais.\n",
        "4. Todas as figurinhas tem igual probabilidade de serem sorteadas.\n",
        "5. Um pack é comprado por vez até que se complete o álbum.\n",
        "\n",
        "## Algoritimo\n",
        "\n",
        "1. Comprar um pack de figurinhas (4 figurinhas cada, que podem ser repetidas);\n",
        "2. Colar no almbúm e verificar se o álbum está completo;\n",
        "3. Caso esteja incompleto, comprar mais um pack, caso contrário terminar.\n",
        "\n",
        "## Perguntas\n",
        "1. Quantos pacotes e qual o valor, em média, são necessários para completar o álbum nessas condições?\n",
        "2. Qual é a distribuição empírica do valor investido para completar o álbum?\n",
        "3. Qual a probabilidade de se gastar menos que R$ 1500,00 para completar o álbum?\n",
        "4. Qual a probabilidade de se gastar mais do que a média para completar o álbum?\n",
        "5. Qual é um intervalo de confiança de 95% para o gasto ao se completar o álbum?\n",
        "6. Qual o valor médio gasto caso se esteja completando o álbum com um ou mais amigos?\n"
      ]
    },
    {
      "cell_type": "markdown",
      "metadata": {
        "id": "R-5rDRqIdFPg"
      },
      "source": [
        "### Bibliotecas importadas"
      ]
    },
    {
      "cell_type": "code",
      "metadata": {
        "id": "vK4NJjgtdECs"
      },
      "source": [
        "import pandas as pd\n",
        "import numpy as np\n",
        "import matplotlib.pyplot as plt"
      ],
      "execution_count": null,
      "outputs": []
    },
    {
      "cell_type": "markdown",
      "metadata": {
        "id": "jHMRgjGWcF5A"
      },
      "source": [
        "Iniciar escrevendo as suposições:"
      ]
    },
    {
      "cell_type": "code",
      "metadata": {
        "id": "9r5xkQeicROX"
      },
      "source": [
        "n_album = 212\n",
        "p_album = 10\n",
        "n_figurinhas_pack = 4\n",
        "p_pack = 4"
      ],
      "execution_count": null,
      "outputs": []
    },
    {
      "cell_type": "markdown",
      "metadata": {
        "id": "J2E2AWUsdu0E"
      },
      "source": [
        "### Comprando o album"
      ]
    },
    {
      "cell_type": "code",
      "metadata": {
        "id": "ewJh7UCTcyl2"
      },
      "source": [
        "album = np.zeros(n_album)  # Álbum zerado\n"
      ],
      "execution_count": null,
      "outputs": []
    },
    {
      "cell_type": "markdown",
      "metadata": {
        "id": "nNPWk53yd1DP"
      },
      "source": [
        "### Comprando e abrindo pacotinhos "
      ]
    },
    {
      "cell_type": "code",
      "metadata": {
        "id": "N8MGE-G8d6BY"
      },
      "source": [
        "# np.radom.choice (a, size=n) determina a escolha aleatória das figurinhas dentro do pack, onde a é o array do qual se deeja retirar a amostra e size é o tamanho da amostra.\n",
        "# np.arange(0, n_album) cria como se fosse o álbum completo e determina a população de onde é retirada a amostra.\n",
        "pack = np.random.choice(np.arange(0, n_album) , size = 4)"
      ],
      "execution_count": null,
      "outputs": []
    },
    {
      "cell_type": "markdown",
      "metadata": {
        "id": "vqbu22m-f8ti"
      },
      "source": [
        "### Colando as figurinhas no álbum"
      ]
    },
    {
      "cell_type": "code",
      "metadata": {
        "id": "fnJYqs0OgCFb"
      },
      "source": [
        "album[pack[0]] += 1\n",
        "album[pack[1]] += 1\n",
        "album[pack[2]] += 1\n",
        "album[pack[3]] += 1"
      ],
      "execution_count": null,
      "outputs": []
    },
    {
      "cell_type": "markdown",
      "metadata": {
        "id": "nPbBqJ8cibMz"
      },
      "source": [
        "### Conferindo se o album está completo"
      ]
    },
    {
      "cell_type": "code",
      "metadata": {
        "colab": {
          "base_uri": "https://localhost:8080/"
        },
        "id": "VC8hdpXTihlR",
        "outputId": "6ebe0aa1-0fed-47bd-8f58-976498484e09"
      },
      "source": [
        "np.alltrue(album >= 1)  # Fala se o álbum está completo True = sim e False = não\n",
        "not np.all(album >= 1)\n",
        "album >=1  # Mostra como está o álbum\n"
      ],
      "execution_count": null,
      "outputs": [
        {
          "output_type": "execute_result",
          "data": {
            "text/plain": [
              "array([False, False, False, False, False, False, False, False, False,\n",
              "       False, False, False, False, False, False, False,  True, False,\n",
              "       False, False, False, False, False, False, False, False, False,\n",
              "       False, False, False, False, False, False, False, False, False,\n",
              "       False, False, False, False, False, False, False, False, False,\n",
              "       False, False, False, False, False, False, False, False, False,\n",
              "       False, False, False, False, False, False, False, False, False,\n",
              "        True, False, False, False, False, False, False, False, False,\n",
              "       False, False, False, False, False, False, False, False, False,\n",
              "       False, False, False, False, False,  True, False, False, False,\n",
              "       False, False, False, False, False, False, False, False, False,\n",
              "       False, False, False, False, False,  True, False, False, False,\n",
              "       False, False, False, False, False, False, False, False, False,\n",
              "       False, False, False, False, False, False, False, False, False,\n",
              "       False, False, False, False, False, False, False, False, False,\n",
              "       False, False, False, False, False, False, False, False, False,\n",
              "       False, False, False, False, False, False, False, False, False,\n",
              "       False, False, False, False, False, False, False, False, False,\n",
              "       False, False, False, False, False, False, False, False, False,\n",
              "       False, False, False, False, False, False, False, False, False,\n",
              "       False, False, False, False, False, False, False, False, False,\n",
              "       False, False, False, False, False, False, False, False, False,\n",
              "       False, False, False, False, False, False, False, False, False,\n",
              "       False, False, False, False, False])"
            ]
          },
          "metadata": {},
          "execution_count": 9
        }
      ]
    },
    {
      "cell_type": "markdown",
      "metadata": {
        "id": "Ar9DPMKXjwvY"
      },
      "source": [
        "## Juntando as etapas para coletar as informações de completar o ábum"
      ]
    },
    {
      "cell_type": "code",
      "metadata": {
        "colab": {
          "base_uri": "https://localhost:8080/"
        },
        "id": "NvRD112FjyzP",
        "outputId": "c3286247-7fec-4389-b4c1-6c775a85000b"
      },
      "source": [
        "def SimulaAlbum():  # Definir a montagem de um álbum como uma função e retorna quantos packs foram utilizados para completar o album.\n",
        "  # Criando o álbum\n",
        "  album = np.zeros(n_album)\n",
        "  # Completando o álbum\n",
        "  while not np.all(album >=1):  # Utilizando o while como estrutura de repetição enquanto o álbum não estiver completo.\n",
        "\n",
        "    # Abrindo os packs e verificando as figurinhas\n",
        "    pack = np.random.choice(np.arange(0, n_album) , size = 4)\n",
        "\n",
        "    # colando as figurinhas de forma simplificada utilizando estrutura for\n",
        "    for i in (0, 1, 2, 3):\n",
        "      album[pack[i]] += 1\n",
        "    packs = sum(album)/4\n",
        "  return packs\n",
        "SimulaAlbum()  # Função que simula completar o album\n",
        "\n",
        "\n",
        "  "
      ],
      "execution_count": null,
      "outputs": [
        {
          "output_type": "execute_result",
          "data": {
            "text/plain": [
              "206.0"
            ]
          },
          "metadata": {},
          "execution_count": 65
        }
      ]
    },
    {
      "cell_type": "markdown",
      "metadata": {
        "id": "65I_9fsTpPF1"
      },
      "source": [
        "# Respondendo as perguntas"
      ]
    },
    {
      "cell_type": "markdown",
      "metadata": {
        "id": "72zzz-eBpYI6"
      },
      "source": [
        "## Pergunta 1 - Quantos pacotes e qual o valor, em média, são necessários para completar o álbum nessas condições?"
      ]
    },
    {
      "cell_type": "code",
      "metadata": {
        "id": "3G6ar4TzqM1e"
      },
      "source": [
        "s = 1000  # Quantidade de simulações\n",
        "soma_packs = 0  # Contador para somar os packs das simulações\n",
        "for i in range(s):\n",
        "  soma_packs += SimulaAlbum()\n",
        "media_packs = soma_packs / s\n",
        "custo_total = media_packs * p_pack + p_album"
      ],
      "execution_count": null,
      "outputs": []
    },
    {
      "cell_type": "code",
      "metadata": {
        "colab": {
          "base_uri": "https://localhost:8080/"
        },
        "id": "vdOQer0UsaJr",
        "outputId": "a7bd6097-c6ef-4ccd-a551-dcff76517362"
      },
      "source": [
        "print(f'Em média você vai precisar comprar {media_packs:.0f} pacotinhos e gastar R$ {custo_total:.2f} para poder completar o seu álbum sozinho.')"
      ],
      "execution_count": null,
      "outputs": [
        {
          "output_type": "stream",
          "name": "stdout",
          "text": [
            "Em média você vai precisar comprar 317 pacotinhos e gastar R$ 1277.93 para poder completar o seu álbum sozinho.\n"
          ]
        }
      ]
    },
    {
      "cell_type": "markdown",
      "metadata": {
        "id": "FSOL3CQVpkQl"
      },
      "source": [
        "## Pergunta 2 - Qual é a distribuição empírica do valor investido para completar o álbum?"
      ]
    },
    {
      "cell_type": "code",
      "metadata": {
        "id": "rYt0H7S2GZyB"
      },
      "source": [
        "s = 1000  # Quantidade de simulações\n",
        "soma_packs = 0  # Contador para somar os packs das simulações\n",
        "dados = []\n",
        "for i in range(s):\n",
        "  soma_packs += SimulaAlbum()\n",
        "  dados.append(SimulaAlbum() * p_pack + p_album)\n",
        "dados_a = np.array(dados)"
      ],
      "execution_count": null,
      "outputs": []
    },
    {
      "cell_type": "code",
      "metadata": {
        "colab": {
          "base_uri": "https://localhost:8080/",
          "height": 281
        },
        "id": "G6H4E46ygnIu",
        "outputId": "0a6d65ee-1740-4828-c92b-77e6b0b7892e"
      },
      "source": [
        "dados_a\n",
        "plt.hist(dados_a, bins = 25, density = True, color = 'blue', edgecolor = 'black')\n",
        "plt.title('Distribuição empírica do valor investido para completar o álbum')\n",
        "plt.show()"
      ],
      "execution_count": null,
      "outputs": [
        {
          "output_type": "display_data",
          "data": {
            "image/png": "[encoded data removed]",
            "text/plain": [
              "<Figure size 432x288 with 1 Axes>"
            ]
          },
          "metadata": {
            "needs_background": "light"
          }
        }
      ]
    },
    {
      "cell_type": "markdown",
      "metadata": {
        "id": "wSn__eyopkTj"
      },
      "source": [
        "## Pergunta 3 - Qual a probabilidade de se gastar menos que R$ 1500,00 para completar o álbum?"
      ]
    },
    {
      "cell_type": "code",
      "metadata": {
        "colab": {
          "base_uri": "https://localhost:8080/"
        },
        "id": "AE1PvEixk2w3",
        "outputId": "208c74f7-8f29-49f5-bd10-7dbfee0e56df"
      },
      "source": [
        "valor1 = 1500\n",
        "prob1 = sum(dados_a < valor1) / s * 100\n",
        "print(f'A probabilidade de se gastar menos de R$ 1500,00 é de {prob1:.2f}%.')"
      ],
      "execution_count": null,
      "outputs": [
        {
          "output_type": "stream",
          "name": "stdout",
          "text": [
            "A probabilidade de se gastar menos de R$ 1500,00 é de 82.30%.\n"
          ]
        }
      ]
    },
    {
      "cell_type": "markdown",
      "metadata": {
        "id": "FcMXZFPjpkWg"
      },
      "source": [
        "## Pergunta 4 - Qual a probabilidade de se gastar mais do que a média para completar o álbum?"
      ]
    },
    {
      "cell_type": "code",
      "metadata": {
        "colab": {
          "base_uri": "https://localhost:8080/"
        },
        "id": "-BsDpta7qh8j",
        "outputId": "05e95d44-855e-4e1d-b046-c3cece3eeecf"
      },
      "source": [
        "prob2 = sum(dados_a > dados_a.mean()) / s * 100\n",
        "print(f'A probabilidade de se gastar mais do que a média é de {prob2:.2f}%.')"
      ],
      "execution_count": null,
      "outputs": [
        {
          "output_type": "stream",
          "name": "stdout",
          "text": [
            "A probabilidade de se gastar mais do que a média é de 42.20%.\n"
          ]
        }
      ]
    },
    {
      "cell_type": "markdown",
      "metadata": {
        "id": "44iakHIOpkZR"
      },
      "source": [
        "## Pergunta 5 - Qual é um intervalo de confiança de 95% para o gasto ao se completar o álbum?"
      ]
    },
    {
      "cell_type": "code",
      "metadata": {
        "colab": {
          "base_uri": "https://localhost:8080/"
        },
        "id": "NKm-sz7rsnmz",
        "outputId": "3501e90b-9a05-4021-f1de-1a56572c5689"
      },
      "source": [
        "quantil = np.quantile(dados_a, [0.025, 0.975])\n",
        "quantil\n",
        "#print(f'Em 95% dos casos você vai gastar entre R${quantil[0]:.2f} e R${quantil[1]:.2f}.)"
      ],
      "execution_count": null,
      "outputs": [
        {
          "output_type": "execute_result",
          "data": {
            "text/plain": [
              "array([ 886. , 1890.3])"
            ]
          },
          "metadata": {},
          "execution_count": 141
        }
      ]
    },
    {
      "cell_type": "markdown",
      "metadata": {
        "id": "kLOn4REVpkcR"
      },
      "source": [
        "## Pergunta 6 - Qual o valor médio gasto caso se esteja completando o álbum com um ou mais amigos?"
      ]
    },
    {
      "cell_type": "code",
      "metadata": {
        "id": "UbOfbhhCuphJ",
        "colab": {
          "base_uri": "https://localhost:8080/"
        },
        "outputId": "14078158-0af1-48ae-f2b2-558904c3ca9c"
      },
      "source": [
        "amigos = 2\n",
        "def SimulaAlbum(amigos):  # Definir a montagem de um álbum como uma função e retorna quantos packs foram utilizados para completar o album.\n",
        "  # Criando o álbum\n",
        "  album = np.zeros(n_album)\n",
        "  # Completando o álbum\n",
        "  while not np.all(album >= amigos):  # Utilizando o while como estrutura de repetição enquanto o álbum não estiver completo.\n",
        "\n",
        "    # Abrindo os packs e verificando as figurinhas\n",
        "    pack = np.random.choice(np.arange(0, n_album) , size = 4)\n",
        "\n",
        "    # colando as figurinhas de forma simplificada utilizando estrutura for\n",
        "    for i in (0, 1, 2, 3):\n",
        "      album[pack[i]] += 1\n",
        "    packs = (sum(album)/4)/amigos\n",
        "  return packs\n",
        "SimulaAlbum(amigos)  # Função que simula completar o album"
      ],
      "execution_count": null,
      "outputs": [
        {
          "output_type": "execute_result",
          "data": {
            "text/plain": [
              "168.0"
            ]
          },
          "metadata": {},
          "execution_count": 9
        }
      ]
    },
    {
      "cell_type": "code",
      "metadata": {
        "id": "d-mIzdjeewaz"
      },
      "source": [
        "s = 1000  # Quantidade de simulações\n",
        "soma_packs = 0  # Contador para somar os packs das simulações\n",
        "amigos = 2\n",
        "for i in range(s):\n",
        "  soma_packs += SimulaAlbum(amigos)\n",
        "media_packs = soma_packs / s\n",
        "custo_total = media_packs * p_pack + amigos * p_album"
      ],
      "execution_count": null,
      "outputs": []
    },
    {
      "cell_type": "code",
      "metadata": {
        "colab": {
          "base_uri": "https://localhost:8080/"
        },
        "id": "WQ32AfGqfeCo",
        "outputId": "4d2e4008-10c2-408c-9c17-62bb5793b7b0"
      },
      "source": [
        "print(f'Completar o álbum com mais {amigos-1} amigo(s) vai precisar de, em média, {media_packs:.0f} packs e gastar aproximadamente R${custo_total:.2f}')"
      ],
      "execution_count": null,
      "outputs": [
        {
          "output_type": "stream",
          "name": "stdout",
          "text": [
            "Completar o álbum com mais 1 amigo(s) vai precisar de, em média, 217 packs e gastar aproximadamente R$876.49\n"
          ]
        }
      ]
    }
  ]
}